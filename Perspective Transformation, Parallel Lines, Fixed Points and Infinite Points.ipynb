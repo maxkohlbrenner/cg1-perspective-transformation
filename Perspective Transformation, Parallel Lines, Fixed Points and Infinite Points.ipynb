{
 "cells": [
  {
   "cell_type": "markdown",
   "metadata": {},
   "source": [
    "# Perspective Transformation: Parallel Lines, Fixed Points and Infinite Points\n",
    "\n",
    "A small demo notebook designed to give some intuition about the perspective transformation. \n",
    "\n",
    "Written by Max Kohlbrenner"
   ]
  },
  {
   "cell_type": "code",
   "execution_count": null,
   "metadata": {},
   "outputs": [],
   "source": [
    "import numpy as np\n",
    "import matplotlib.pyplot as plt"
   ]
  },
  {
   "cell_type": "code",
   "execution_count": null,
   "metadata": {},
   "outputs": [],
   "source": [
    "def plot_transformation(lines, A, x0, lineplot=True, scatter=True):\n",
    "    nl = lines.shape[0] # number of distinct lines\n",
    "    nv = lines.shape[1] # number of vertices per line\n",
    "    lines = lines.reshape(-1, 2)\n",
    "    # add homogeneous coordinate\n",
    "    lines = np.concatenate([lines, np.ones((lines.shape[0], 1))], axis=1)\n",
    "    \n",
    "    fig = plt.figure(figsize=(10, 6))\n",
    "    plt.axhline(0., c='black', lw=0.5)\n",
    "    plt.axvline(0., c='black', lw=0.5)\n",
    "    plt.axvline(x0 , ls='--', c='c',  label='View       Plane')\n",
    "    plt.axvline( 0 , ls='--', c='m',  label='Projection Plane')\n",
    "    plt.axvline(-x0, ls='--', c='y', label='Vanishing   Plane')\n",
    "    \n",
    "    # plot lines pre:\n",
    "    if lineplot:\n",
    "        lines_rs = lines.reshape(nl, nv, 3)\n",
    "        plt.plot(lines_rs[:,:,0], lines_rs[:,:,1], c='b')\n",
    "    if scatter:\n",
    "        plt.scatter(lines[:,0], lines[:,1], c='b', label='PRE projective transformation')\n",
    "    \n",
    "    # apply projective transformation in homogeneous coordinates\n",
    "    values_projected_hom   = lines.dot(A.T)\n",
    "    # divide by w and transform back to normal coordinates\n",
    "    values_post_transformation = values_projected_hom[:,:2] / values_projected_hom[:,-1][:,None]\n",
    "    # plot projected lines:\n",
    "    if lineplot:\n",
    "        lines_rs = values_post_transformation.reshape(nl, nv, 2)\n",
    "        plt.plot(lines_rs[:,:,0], lines_rs[:,:,1], c='r')\n",
    "    if scatter:\n",
    "        plt.scatter(values_post_transformation[:,0], values_post_transformation[:,1], c='r', marker='x', label='POST projective transformation')\n",
    "    \n",
    "    plt.scatter(x0, 0., label='eye', c='black', s=50.)\n",
    "    plt.scatter(-x0,0., label='principal vanishing point', marker='x', c='black', s=50.)\n",
    "    \n",
    "    plt.legend()"
   ]
  },
  {
   "cell_type": "markdown",
   "metadata": {},
   "source": [
    "# 1. Model Parameters\n",
    "We model a perspective transformation in 2D along the x-axis.\n",
    "\n",
    "Be aware: this is not the same as the projection, the output of our transformation still lives in 2D. The full perspective projection first applies the perspective transformation and then discards the y component of the output.\n",
    "\n",
    "Our eye is at position x0 and looks in direction of the positive x axis, the projection pane is given by the equation x=0."
   ]
  },
  {
   "cell_type": "code",
   "execution_count": null,
   "metadata": {},
   "outputs": [],
   "source": [
    "def perspective_transformation_matrix(x0=-1):\n",
    "    return np.array([[ 1,    0,0],\n",
    "                     [ 0,    1,0],\n",
    "                     [ 1/-x0, 0,1]])\n",
    "\n",
    "x0 = -1\n",
    "A  = perspective_transformation_matrix(x0)"
   ]
  },
  {
   "cell_type": "markdown",
   "metadata": {},
   "source": [
    "# 2. Perspective Transformation of Incoming Rays:\n",
    "\n",
    "We visualize the perspective transformation of a set of rays (blue lines) coming into our eye. \n",
    "\n",
    "After the perspective transformation, all rays are parallel (red lines)."
   ]
  },
  {
   "cell_type": "code",
   "execution_count": null,
   "metadata": {},
   "outputs": [],
   "source": [
    "eps=1. # distance to the eye at which the first ray points get sampled\n",
    "nx = ny = 11 # number of samples, number of rays\n",
    "\n",
    "# some lines converging at the position of the eye\n",
    "xs = np.linspace(x0+eps, 4, nx)\n",
    "ys = (np.linspace(-1, 1, ny)[None,:]) * (xs[:,None] -x0)\n",
    "lines = np.stack([xs[:,None] * np.ones(ys.shape[1]), ys], axis=2)\n",
    "\n",
    "# plotting\n",
    "plot_transformation(lines, A, x0)\n",
    "_ = plt.title('Perspective Transformation of Incoming Rays')"
   ]
  },
  {
   "cell_type": "markdown",
   "metadata": {},
   "source": [
    "# 3. Perspective Transformation of Parallel Lines:\n",
    "We visualize the perspective transformation of a set of parallel lines (blue). \n",
    "\n",
    "After the perspective transformation, all lines (red) now point towards a common vanishing point.\n",
    "\n",
    "If the lines are parallel to the view direction, they converge in the principal vanishing point(black cross). \n",
    "Every other set of parallel lines (here differenciated by the slope factor) has its own vanishing point in the vanishing plane ($x=-x0$)."
   ]
  },
  {
   "cell_type": "markdown",
   "metadata": {},
   "source": [
    "### 3.1 Slope Factor 0: Lines parallel to the viewing direction\n",
    "The perspective transfromation of the lines converge in the principal vanishing point"
   ]
  },
  {
   "cell_type": "code",
   "execution_count": null,
   "metadata": {},
   "outputs": [],
   "source": [
    "slope=0. # the slope of the parallel lines\n",
    "\n",
    "eps=1. # distance to the eye at which the first ray points get sampled\n",
    "nx = ny = 11 # number of samples, number of rays\n",
    "\n",
    "xs = np.linspace(x0+eps, 5, nx)[None,:]\n",
    "ys = xs * slope + np.linspace(-3, 3, ny)[:,None]\n",
    "grid = np.stack([xs*np.ones((ny,1)), ys], axis=2).transpose(1,0,2)\n",
    "\n",
    "# plot the grid as well as its projection\n",
    "plot_transformation(grid, A, x0)\n",
    "_ = plt.title('Perspective Transformation of Parallel Lines (slope factor {})'.format(slope))"
   ]
  },
  {
   "cell_type": "markdown",
   "metadata": {},
   "source": [
    "### 3.1 Slope Factor $\\neq 0$: Lines parallel lines with a slope \n",
    "\n",
    "Note that after the perspective transformation, the lines still converge. The vanishing point is a different one now, however it always lies on the vanishing plane $x = -x0$"
   ]
  },
  {
   "cell_type": "code",
   "execution_count": null,
   "metadata": {},
   "outputs": [],
   "source": [
    "slope=1. # the slope of the parallel lines\n",
    "\n",
    "eps=1. # distance to the eye at which the first ray points get sampled\n",
    "nx = ny = 11 # number of samples, number of rays\n",
    "\n",
    "xs = np.linspace(x0+eps, 5, nx)[None,:]\n",
    "ys = xs * slope + np.linspace(-3, 3, ny)[:,None]\n",
    "grid = np.stack([xs*np.ones((ny,1)), ys], axis=2).transpose(1,0,2)\n",
    "\n",
    "# plot the grid as well as its projection\n",
    "plot_transformation(grid, A, x0)\n",
    "_ = plt.title('Perspective Transformation of Parallel Lines (slope factor {})'.format(slope))"
   ]
  },
  {
   "cell_type": "markdown",
   "metadata": {},
   "source": [
    "# 4. Fixed Points\n",
    "The fixed points of the perspective transformation are all points that get mapped to themselves when applying the perspective transformation. Note that we are working in homogeneous coordinates, therefore two points are equivalent if they are a multiple of each other. \n",
    "\n",
    "Let $p = \\begin{bmatrix} x \\\\ y \\\\ 1 \\end{bmatrix}$ be an arbitrary point in homogeneous coordinates.\n",
    "\n",
    "$p$ is a fixed point if $Ap = p$.\n",
    "\n",
    "Remember our projective transformation matrix\n",
    "$A = \\begin{bmatrix} 1 & 0 & 0 \\\\ 0 & 1 & 0 \\\\ \\frac{1}{-x_0} & 0 & 1 \\end{bmatrix}$.\n",
    "\n",
    "Since we chose the eye position $x_0 = -1$, we get:\n",
    "$A = \\begin{bmatrix} 1 & 0 & 0 \\\\ 0 & 1 & 0 \\\\ 1 & 0 & 1 \\end{bmatrix}$.\n",
    "\n",
    "This gives us:\n",
    "$Ap = \\begin{bmatrix} 1 & 0 & 0 \\\\ 0 & 1 & 0 \\\\ 1 & 0 & 1 \\end{bmatrix} \\begin{bmatrix} x \\\\ y \\\\ 1 \\end{bmatrix} = \\begin{bmatrix} x \\\\ y \\\\ x+1 \\end{bmatrix}$\n",
    "\n",
    "Therefore $x+1 = x \\implies x = 0$. The set of fixed points is the plane given by $x=0$."
   ]
  },
  {
   "cell_type": "markdown",
   "metadata": {},
   "source": [
    "# 5. Points Mapped From or To Infinity.\n",
    "For an arbitrary point $p = \\begin{bmatrix} x \\\\ y \\\\ 1 \\end{bmatrix}$ we have:\n",
    "\n",
    "$Ap = \\begin{bmatrix} 1 & 0 & 0 \\\\ 0 & 1 & 0 \\\\ 1 & 0 & 1 \\end{bmatrix} \\begin{bmatrix} x \\\\ y \\\\ 1\\end{bmatrix} = \\begin{bmatrix} x \\\\ y \\\\ x+1 \\end{bmatrix}$\n",
    "\n",
    "## 5.1 Mapping of infinite points to finite points\n",
    "A point at infinity is a point for which $w=0$, let $p'$ be such a point, then:\n",
    "\n",
    "$Ap' = \\begin{bmatrix} x \\\\ y \\\\ x \\end{bmatrix}$.\n",
    "'\n",
    "This point is finite iff $x \\neq 0$. In this case, \n",
    "normalizing for a unit homogeneous coordinate, we get $\\begin{bmatrix} 1 \\\\ y \\\\ 1 \\end{bmatrix}$.\n",
    "Therefore all infinite points that are not fixed points (see last section) are mapped to finite points.\n",
    "\n",
    "\n",
    "## 5.2 Mapping of finite points to infinite points\n",
    "We have $Ap = \\begin{bmatrix} x \\\\ y \\\\ x+1 \\end{bmatrix}$, this point is infinite iff $x+1=0 \\implies x = -1 = x_0$. This is exactly the view plane."
   ]
  }
 ],
 "metadata": {
  "kernelspec": {
   "display_name": "opt_env",
   "language": "python",
   "name": "opt_env"
  },
  "language_info": {
   "codemirror_mode": {
    "name": "ipython",
    "version": 3
   },
   "file_extension": ".py",
   "mimetype": "text/x-python",
   "name": "python",
   "nbconvert_exporter": "python",
   "pygments_lexer": "ipython3",
   "version": "3.8.5"
  }
 },
 "nbformat": 4,
 "nbformat_minor": 4
}
